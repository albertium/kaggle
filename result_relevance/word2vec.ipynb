{
 "cells": [
  {
   "cell_type": "code",
   "execution_count": 1,
   "metadata": {
    "collapsed": false
   },
   "outputs": [],
   "source": [
    "%load_ext autoreload\n",
    "%autoreload 2\n",
    "\n",
    "%matplotlib inline\n",
    "import numpy as np\n",
    "import pandas as pd"
   ]
  },
  {
   "cell_type": "code",
   "execution_count": 2,
   "metadata": {
    "collapsed": true
   },
   "outputs": [],
   "source": [
    "train = pd.read_csv('data/train.csv')\n",
    "test = pd.read_csv('data/test.csv')\n"
   ]
  },
  {
   "cell_type": "code",
   "execution_count": 27,
   "metadata": {
    "collapsed": false
   },
   "outputs": [
    {
     "name": "stdout",
     "output_type": "stream",
     "text": [
      "<class 'pandas.core.frame.DataFrame'>\n",
      "Int64Index: 22513 entries, 0 to 22512\n",
      "Data columns (total 4 columns):\n",
      "id                     22513 non-null int64\n",
      "query                  22513 non-null object\n",
      "product_title          22513 non-null object\n",
      "product_description    17086 non-null object\n",
      "dtypes: int64(1), object(3)\n",
      "memory usage: 879.4+ KB\n"
     ]
    }
   ],
   "source": [
    "test.info()"
   ]
  },
  {
   "cell_type": "code",
   "execution_count": 49,
   "metadata": {
    "collapsed": false
   },
   "outputs": [],
   "source": [
    "import nltk\n",
    "\n",
    "all_data = pd.concat([train[['query', 'product_title', 'product_description']], \n",
    "                      test[['query', 'product_title', 'product_description']]])\n",
    "\n",
    "combined = all_data['query'].values.tolist() + \\\n",
    "           all_data.product_title.values.tolist() + \\\n",
    "           all_data.product_description.dropna().values.tolist()\n",
    "\n",
    "sentences = [[word for word in nltk.word_tokenize(sent)]\n",
    "                for article in combined\n",
    "                    for sent in nltk.sent_tokenize(article)]\n"
   ]
  },
  {
   "cell_type": "code",
   "execution_count": 51,
   "metadata": {
    "collapsed": false
   },
   "outputs": [],
   "source": [
    "import gensim, logging\n",
    "\n",
    "logging.basicConfig(format='%(asctime)s : %(levelname)s : %(message)s', level=logging.INFO)\n",
    "model = gensim.models.Word2Vec(sentences, min_count=3, size=100, window=5, workers=6)"
   ]
  },
  {
   "cell_type": "code",
   "execution_count": 67,
   "metadata": {
    "collapsed": false
   },
   "outputs": [
    {
     "data": {
      "text/plain": [
       "array([ -4.11098391e-01,   5.99846691e-02,  -3.54686201e-01,\n",
       "         3.61772090e-01,   6.66956246e-01,  -1.76439539e-01,\n",
       "        -5.70497215e-01,  -2.05209121e-01,  -3.96207124e-01,\n",
       "         2.76971143e-02,   2.42122188e-01,   3.81104827e-01,\n",
       "        -1.95282698e-01,   2.60075569e-01,  -6.23765647e-01,\n",
       "        -3.42121840e-01,  -2.72151560e-01,   1.06084019e-01,\n",
       "         3.94799113e-01,  -2.58954972e-01,  -1.60580218e-01,\n",
       "        -1.16969384e-01,   2.44607419e-01,   2.13769838e-01,\n",
       "         1.73074827e-01,   8.51913393e-02,  -3.61130297e-01,\n",
       "         9.58077013e-02,   5.88148713e-01,  -1.15631841e-01,\n",
       "        -3.37651521e-01,  -1.39188752e-01,   2.50169873e-01,\n",
       "        -5.77345453e-02,   8.62811580e-02,  -8.58855471e-02,\n",
       "        -3.41767073e-01,  -8.24075878e-01,   1.74720604e-02,\n",
       "         5.05687222e-02,  -7.81935990e-01,   1.52606204e-01,\n",
       "         2.81762391e-01,   3.06600839e-01,  -2.91619927e-01,\n",
       "         6.16826192e-02,  -9.04083923e-02,  -4.33652073e-01,\n",
       "         4.93654877e-01,   1.69974580e-01,   1.68552273e-03,\n",
       "         1.88033089e-01,   1.99385062e-01,  -8.89365152e-02,\n",
       "         2.35104561e-01,   1.54827863e-01,  -2.44136885e-01,\n",
       "         1.06870458e-02,   3.85159291e-02,   7.65734985e-02,\n",
       "         2.90111065e-01,  -3.68135154e-01,  -1.00302286e-02,\n",
       "        -6.20855503e-02,  -3.35241914e-01,   2.80266762e-01,\n",
       "        -6.06820174e-02,  -2.60745317e-01,  -1.42967403e-01,\n",
       "        -8.59928355e-02,   2.70583928e-01,   3.34763795e-01,\n",
       "        -3.60431671e-01,  -2.67347962e-01,  -5.73396206e-01,\n",
       "        -5.34284234e-01,   4.93630439e-01,  -1.15881108e-01,\n",
       "         2.27521509e-01,   1.05843171e-01,   8.70742090e-03,\n",
       "        -1.33201689e-01,  -6.26952350e-02,   7.45860636e-01,\n",
       "         3.72759700e-01,  -3.78352270e-04,  -3.66861135e-01,\n",
       "         3.12660217e-01,  -6.44660816e-02,  -7.21798420e-01,\n",
       "        -7.02852532e-02,   2.88160771e-01,   1.13166254e-02,\n",
       "        -4.29898947e-01,  -4.38793808e-01,   1.83458909e-01,\n",
       "         7.56272495e-01,  -3.77943844e-01,  -6.17158562e-02,\n",
       "        -3.74012053e-01], dtype=float32)"
      ]
     },
     "execution_count": 67,
     "metadata": {},
     "output_type": "execute_result"
    }
   ],
   "source": [
    "model['led']"
   ]
  },
  {
   "cell_type": "code",
   "execution_count": 91,
   "metadata": {
    "collapsed": false
   },
   "outputs": [
    {
     "name": "stdout",
     "output_type": "stream",
     "text": [
      "bridal shower decorations\n",
      "Accent Pillow with Heart Design - Red/Black\n"
     ]
    },
    {
     "data": {
      "text/plain": [
       "0.13817245421119409"
      ]
     },
     "execution_count": 91,
     "metadata": {},
     "output_type": "execute_result"
    }
   ],
   "source": [
    "from scipy.spatial.distance import cosine\n",
    "\n",
    "obj = 0\n",
    "query = train.loc[obj, 'query']\n",
    "title = train.loc[obj, 'product_title']\n",
    "vec1 = np.sum([model[word] for word in nltk.word_tokenize(query)], axis=0)\n",
    "vec2 = np.sum([model[word] for word in nltk.word_tokenize(title)], axis=0)\n",
    "print(query)\n",
    "print(title)\n",
    "cosine(vec1, vec2)\n",
    "model.similarity('decorations', 'accent')\n",
    "\n"
   ]
  },
  {
   "cell_type": "code",
   "execution_count": null,
   "metadata": {
    "collapsed": true
   },
   "outputs": [],
   "source": [
    "from gensim.corpora import WikiCorpus\n",
    "\n"
   ]
  }
 ],
 "metadata": {
  "kernelspec": {
   "display_name": "Python 3",
   "language": "python",
   "name": "python3"
  },
  "language_info": {
   "codemirror_mode": {
    "name": "ipython",
    "version": 3
   },
   "file_extension": ".py",
   "mimetype": "text/x-python",
   "name": "python",
   "nbconvert_exporter": "python",
   "pygments_lexer": "ipython3",
   "version": "3.4.3"
  }
 },
 "nbformat": 4,
 "nbformat_minor": 0
}
