{
 "cells": [
  {
   "cell_type": "code",
   "execution_count": 1,
   "metadata": {
    "collapsed": true
   },
   "outputs": [],
   "source": [
    "%load_ext autoreload\n",
    "%autoreload 2\n",
    "\n",
    "%matplotlib inline\n",
    "import numpy as np\n",
    "import pandas as pd"
   ]
  },
  {
   "cell_type": "code",
   "execution_count": 7,
   "metadata": {
    "collapsed": false
   },
   "outputs": [
    {
     "name": "stdout",
     "output_type": "stream",
     "text": [
      "<class 'pandas.core.frame.DataFrame'>\n",
      "Int64Index: 10158 entries, 0 to 10157\n",
      "Data columns (total 6 columns):\n",
      "id                     10158 non-null int64\n",
      "query                  10158 non-null object\n",
      "product_title          10158 non-null object\n",
      "product_description    7714 non-null object\n",
      "median_relevance       10158 non-null int64\n",
      "relevance_variance     10158 non-null float64\n",
      "dtypes: float64(1), int64(2), object(3)\n",
      "memory usage: 555.5+ KB\n"
     ]
    }
   ],
   "source": [
    "train = pd.read_csv('data/train.csv')\n",
    "test = pd.read_csv('data/test.csv')\n",
    "\n",
    "train.info()"
   ]
  },
  {
   "cell_type": "code",
   "execution_count": 95,
   "metadata": {
    "collapsed": false
   },
   "outputs": [],
   "source": [
    "from helpers import TFIDFVectorizer2\n",
    "\n",
    "vectorizer = TFIDFVectorizer2()\n",
    "desc = vectorizer.fit_transform(train.product_description.fillna('').str.replace('[0-9]', ''))\n",
    "query = vectorizer.transform(train['query'].str.replace('[0-9]', ''))"
   ]
  },
  {
   "cell_type": "code",
   "execution_count": 91,
   "metadata": {
    "collapsed": false
   },
   "outputs": [
    {
     "data": {
      "text/plain": [
       "[('accent', 5.3039326217462595),\n",
       " ('black', 3.0932264712746056),\n",
       " ('embroidered', 5.7883714084853501),\n",
       " ('heart', 5.280281732446535),\n",
       " ('pillow', 4.6300569746054787),\n",
       " ('red', 4.1223756199995032),\n",
       " ('satin', 6.4054845466254262),\n",
       " ('thread', 6.6124562741024251),\n",
       " ('x', 2.5507640126768845)]"
      ]
     },
     "execution_count": 91,
     "metadata": {},
     "output_type": "execute_result"
    }
   ],
   "source": [
    "tfidf.indices[:10]\n",
    "inv_map = {v: k for k, v in vectorizer.cv.vocabulary_.items()}\n",
    "a = [inv_map[v] for v in tfidf.indices[:9]]\n",
    "[(w, v) for w, v in zip(a, tfidf.data[:9])]"
   ]
  },
  {
   "cell_type": "code",
   "execution_count": 113,
   "metadata": {
    "collapsed": false
   },
   "outputs": [
    {
     "name": "stdout",
     "output_type": "stream",
     "text": [
      "3\n"
     ]
    },
    {
     "data": {
      "text/plain": [
       "0.89970346736845364"
      ]
     },
     "execution_count": 113,
     "metadata": {},
     "output_type": "execute_result"
    }
   ],
   "source": [
    "from scipy.spatial.distance import cosine\n",
    "record = 5\n",
    "print(train.median_relevance[record])\n",
    "cosine([d for d in desc][record].toarray(), [d for d in query][record].toarray())"
   ]
  }
 ],
 "metadata": {
  "kernelspec": {
   "display_name": "Python 3",
   "language": "python",
   "name": "python3"
  },
  "language_info": {
   "codemirror_mode": {
    "name": "ipython",
    "version": 3
   },
   "file_extension": ".py",
   "mimetype": "text/x-python",
   "name": "python",
   "nbconvert_exporter": "python",
   "pygments_lexer": "ipython3",
   "version": "3.4.3"
  }
 },
 "nbformat": 4,
 "nbformat_minor": 0
}
