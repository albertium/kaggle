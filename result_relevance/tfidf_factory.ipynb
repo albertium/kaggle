{
 "cells": [
  {
   "cell_type": "code",
   "execution_count": 2,
   "metadata": {
    "collapsed": false
   },
   "outputs": [],
   "source": [
    "import numpy as np\n",
    "import pandas as pd\n",
    "%matplotlib inline"
   ]
  },
  {
   "cell_type": "code",
   "execution_count": 2,
   "metadata": {
    "collapsed": true
   },
   "outputs": [],
   "source": [
    "train_data = pd.read_csv('data/train.csv')\n",
    "test_data = pd.read_csv('data/test.csv')"
   ]
  },
  {
   "cell_type": "code",
   "execution_count": 3,
   "metadata": {
    "collapsed": true
   },
   "outputs": [],
   "source": [
    "train_doc = train_data.apply(lambda x: '%s %s' % (x['product_title'], x['product_description']), axis=1)\n",
    "test_doc = test_data.apply(lambda x: '%s %s' % (x['product_title'], x['product_description']), axis=1)"
   ]
  },
  {
   "cell_type": "code",
   "execution_count": 90,
   "metadata": {
    "collapsed": false
   },
   "outputs": [
    {
     "data": {
      "text/plain": [
       "array([ 1.87997554,  0.46990503,  2.61879676, ...,  0.31871173,\n",
       "        0.96460589,  2.22189113])"
      ]
     },
     "execution_count": 90,
     "metadata": {},
     "output_type": "execute_result"
    }
   ],
   "source": [
    "from sklearn.feature_extraction.text import TfidfVectorizer, CountVectorizer\n",
    "from scipy import sparse as sp\n",
    "\n",
    "cv = CountVectorizer(analyzer='word', token_pattern=r'\\w{1,}', ngram_range=(1, 1),\n",
    "                     stop_words='english', lowercase=True)\n",
    "\n",
    "train_count = cv.fit_transform(train_doc)\n",
    "tmp_count = train_count.copy()\n",
    "\n",
    "# calculate TF\n",
    "tmp_count.data = np.log(1 + np.log(1 + tmp_count.data))\n",
    "\n",
    "# calculate IDF\n",
    "n_docs, n_words = tmp_count.shape\n",
    "df = np.bincount(tmp_count.indices, minlength=tmp_count.shape[1])\n",
    "idf = np.log((n_docs + 1) / df)\n",
    "idf_diag = sp.spdiags(idf, diags=0, m=n_words, n=n_words)\n",
    "\n",
    "# doc length normalization\n",
    "b = 0.7\n",
    "doc_lens = train_count.sum(axis=1)\n",
    "doc_lens = 1 - b + b * doc_lens / doc_lens.mean()\n",
    "doc_lens_diag = sp.spdiags(1/np.ravel(doc_lens), diags=0, m=n_docs, n=n_docs)\n",
    "\n",
    "\n",
    "# calculate tf-idf\n",
    "tfidf = doc_lens_diag * tmp_count * idf_diag\n"
   ]
  },
  {
   "cell_type": "code",
   "execution_count": null,
   "metadata": {
    "collapsed": false
   },
   "outputs": [],
   "source": [
    "!vim helpers.py"
   ]
  },
  {
   "cell_type": "code",
   "execution_count": 5,
   "metadata": {
    "collapsed": false
   },
   "outputs": [],
   "source": [
    "from sklearn.feature_extraction.text import TfidfVectorizer, _document_frequency, bincount\n",
    "from scipy import sparse as sp\n",
    "tmp = np.array([[1, 0, 1], [0, 0, 0], [0, 1, 1]])\n",
    "\n",
    "np.log(1 + np.log(tmp + 1))\n",
    "TfidfVectorizer??"
   ]
  }
 ],
 "metadata": {
  "kernelspec": {
   "display_name": "Python 3",
   "language": "python",
   "name": "python3"
  },
  "language_info": {
   "codemirror_mode": {
    "name": "ipython",
    "version": 3
   },
   "file_extension": ".py",
   "mimetype": "text/x-python",
   "name": "python",
   "nbconvert_exporter": "python",
   "pygments_lexer": "ipython3",
   "version": "3.4.3"
  }
 },
 "nbformat": 4,
 "nbformat_minor": 0
}
