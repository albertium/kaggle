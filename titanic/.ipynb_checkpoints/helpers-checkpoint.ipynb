{
 "metadata": {
  "name": ""
 },
 "nbformat": 3,
 "nbformat_minor": 0,
 "worksheets": [
  {
   "cells": [
    {
     "cell_type": "code",
     "collapsed": false,
     "input": [
      "class NAFiller:\n",
      "    def __init__(self, cols, method='mean'):\n",
      "        self.cols = cols\n",
      "        self.method = method\n",
      "    \n",
      "    def fit(self, X):\n",
      "        if self.method = 'mean':\n",
      "            self.filling = X[self.cols].mean(skipna=True)\n",
      "        elif self.method = 'median':\n",
      "            self.filling = X[self.cols].median(skipna=True)\n",
      "        else:\n",
      "            raise ValueError('method only accpets mean and median')\n",
      "        \n",
      "    def transform(self, X):\n",
      "        return X.fillna(self.filling)"
     ],
     "language": "python",
     "metadata": {},
     "outputs": [],
     "prompt_number": 2
    },
    {
     "cell_type": "code",
     "collapsed": false,
     "input": [],
     "language": "python",
     "metadata": {},
     "outputs": []
    }
   ],
   "metadata": {}
  }
 ]
}