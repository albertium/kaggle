{
 "metadata": {
  "name": ""
 },
 "nbformat": 3,
 "nbformat_minor": 0,
 "worksheets": [
  {
   "cells": [
    {
     "cell_type": "code",
     "collapsed": false,
     "input": [
      "import numpy as np\n",
      "import pandas as pd\n",
      "import matplotlib.pyplot as plt\n",
      "%matplotlib\n",
      "\n",
      "from sklearn.ensemble import RandomForestClassifier as rfc"
     ],
     "language": "python",
     "metadata": {},
     "outputs": [
      {
       "output_type": "stream",
       "stream": "stdout",
       "text": [
        "Using matplotlib backend: TkAgg\n"
       ]
      }
     ],
     "prompt_number": 4
    },
    {
     "cell_type": "code",
     "collapsed": false,
     "input": [
      "data = pd.read_csv('train.csv')\n",
      "print data['Survived'].groupby(pd.notnull(data['Age']).astype(int) ).agg({'prob': np.mean, 'count': np.size})\n",
      "sub_data = data[['Survived', 'Age']][pd.notnull(data['Age'])]\n",
      "sub_data['bias'] = 1\n",
      "sub_data.info()"
     ],
     "language": "python",
     "metadata": {},
     "outputs": [
      {
       "output_type": "stream",
       "stream": "stdout",
       "text": [
        "     count      prob\n",
        "Age                 \n",
        "0      177  0.293785\n",
        "1      714  0.406162\n",
        "\n",
        "[2 rows x 2 columns]\n",
        "<class 'pandas.core.frame.DataFrame'>\n",
        "Int64Index: 714 entries, 0 to 890\n",
        "Data columns (total 3 columns):\n",
        "Survived    714 non-null int64\n",
        "Age         714 non-null float64\n",
        "bias        714 non-null int64\n",
        "dtypes: float64(1), int64(2)"
       ]
      }
     ],
     "prompt_number": 2
    },
    {
     "cell_type": "code",
     "collapsed": false,
     "input": [
      "clf = rfc(n_estimators = 1000)\n",
      "clf.fit(sub_data[['Age', 'bias']], sub_data['Survived'])\n",
      "\n",
      "test = pd.DataFrame({'Age': np.arange(80)+1, 'bias': [1]*80})\n",
      "probs = clf.predict_proba(test)"
     ],
     "language": "python",
     "metadata": {},
     "outputs": [],
     "prompt_number": 10
    },
    {
     "cell_type": "code",
     "collapsed": false,
     "input": [
      "fig = plt.figure(figsize = (8, 4))\n",
      "ax = fig.add_subplot(1,1,1)\n",
      "ax.plot(test['Age'], probs[:, 0])\n",
      "ax.grid = True\n",
      "fig.show()"
     ],
     "language": "python",
     "metadata": {},
     "outputs": [],
     "prompt_number": 11
    },
    {
     "cell_type": "code",
     "collapsed": false,
     "input": [
      "clf.feature_importances_"
     ],
     "language": "python",
     "metadata": {},
     "outputs": [
      {
       "metadata": {},
       "output_type": "pyout",
       "prompt_number": 14,
       "text": [
        "array([ 1.,  0.])"
       ]
      }
     ],
     "prompt_number": 14
    },
    {
     "cell_type": "code",
     "collapsed": false,
     "input": [],
     "language": "python",
     "metadata": {},
     "outputs": []
    }
   ],
   "metadata": {}
  }
 ]
}