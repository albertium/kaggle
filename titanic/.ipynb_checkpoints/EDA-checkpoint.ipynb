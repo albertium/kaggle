{
 "metadata": {
  "name": ""
 },
 "nbformat": 3,
 "nbformat_minor": 0,
 "worksheets": [
  {
   "cells": [
    {
     "cell_type": "code",
     "collapsed": false,
     "input": [
      "import numpy as np\n",
      "import pandas as pd\n",
      "from matplotlib import pyplot as plt\n",
      "%matplotlib inline"
     ],
     "language": "python",
     "metadata": {},
     "outputs": [],
     "prompt_number": 1
    },
    {
     "cell_type": "code",
     "collapsed": false,
     "input": [
      "data_train = pd.read_csv('train.csv')\n",
      "data_train['SibSp_bin'] = pd.cut(data_train.SibSp, [-np.inf, 0, 1, np.inf], labels=False)\n",
      "data_train['Parch_bin'] = pd.cut(data_train.Parch, [-np.inf, 0, 1, np.inf], labels=False)\n",
      "data_train.groupby('Parch_bin').agg({'Survived': [np.mean, np.size]})\n",
      "data_train.info()"
     ],
     "language": "python",
     "metadata": {},
     "outputs": [
      {
       "output_type": "stream",
       "stream": "stdout",
       "text": [
        "<class 'pandas.core.frame.DataFrame'>\n",
        "Int64Index: 891 entries, 0 to 890\n",
        "Data columns (total 14 columns):\n",
        "PassengerId    891 non-null int64\n",
        "Survived       891 non-null int64\n",
        "Pclass         891 non-null int64\n",
        "Name           891 non-null object\n",
        "Sex            891 non-null object\n",
        "Age            714 non-null float64\n",
        "SibSp          891 non-null int64\n",
        "Parch          891 non-null int64\n",
        "Ticket         891 non-null object\n",
        "Fare           891 non-null float64\n",
        "Cabin          204 non-null object\n",
        "Embarked       889 non-null object\n",
        "SibSp_bin      891 non-null int64\n",
        "Parch_bin      891 non-null int64\n",
        "dtypes: float64(2), int64(7), object(5)"
       ]
      }
     ],
     "prompt_number": 2
    },
    {
     "cell_type": "code",
     "collapsed": false,
     "input": [
      "data_test = pd.read_csv('test.csv')\n",
      "data_test.info()"
     ],
     "language": "python",
     "metadata": {},
     "outputs": [
      {
       "output_type": "stream",
       "stream": "stdout",
       "text": [
        "<class 'pandas.core.frame.DataFrame'>\n",
        "Int64Index: 418 entries, 0 to 417\n",
        "Data columns (total 11 columns):\n",
        "PassengerId    418 non-null int64\n",
        "Pclass         418 non-null int64\n",
        "Name           418 non-null object\n",
        "Sex            418 non-null object\n",
        "Age            332 non-null float64\n",
        "SibSp          418 non-null int64\n",
        "Parch          418 non-null int64\n",
        "Ticket         418 non-null object\n",
        "Fare           417 non-null float64\n",
        "Cabin          91 non-null object\n",
        "Embarked       418 non-null object\n",
        "dtypes: float64(2), int64(4), object(5)"
       ]
      }
     ],
     "prompt_number": 3
    },
    {
     "cell_type": "code",
     "collapsed": false,
     "input": [
      "from sklearn.preprocessing import PolynomialFeatures, OneHotEncoder, LabelEncoder\n",
      "from helpers import MultiLabelEncoder, OneHotEncoderMinusOne\n",
      "\n",
      "from sklearn.linear_model import SGDClassifier\n",
      "from sklearn.pipeline import make_pipeline\n",
      "from sklearn.cross_validation import cross_val_score\n",
      "from sklearn.grid_search import GridSearchCV\n",
      "\n",
      "X_train = data_train[['Pclass', 'SibSp_bin', 'Parch_bin', 'Embarked', 'Sex', 'Fare']].values\n",
      "y_train = data_train['Survived'].values\n",
      "\n",
      "clf = make_pipeline(MultiLabelEncoder([0, 3, 4]), \n",
      "                     OneHotEncoderMinusOne([0, 1, 2, 3, 4]), \n",
      "                     SGDClassifier(loss='log', penalty='elasticnet'))\n",
      "\n",
      "\n",
      "param_grid = [{\n",
      "               'sgdclassifier__alpha': [0.000001, 0.00001, 0.0001, 0.001, 0.01, 0.1],\n",
      "               'sgdclassifier__l1_ratio': np.linspace(0.01, 0.99, num=20)\n",
      "             }]\n",
      "clf = GridSearchCV(clf, param_grid, scoring='accuracy', cv=10, n_jobs=1)\n",
      "clf.fit(X_train, y_train)\n",
      "print clf.best_score_\n",
      "print \n",
      "print clf.best_params_\n",
      "print \n",
      "print clf.best_estimator_"
     ],
     "language": "python",
     "metadata": {},
     "outputs": [
      {
       "output_type": "stream",
       "stream": "stdout",
       "text": [
        "0.708193041526\n",
        "\n",
        "{'sgdclassifier__alpha': 0.001, 'sgdclassifier__l1_ratio': 0.98999999999999999}\n",
        "\n",
        "Pipeline(steps=[('multilabelencoder', MultiLabelEncoder(cols=[0, 3, 4])), ('onehotencoderminusone', OneHotEncoderMinusOne(cols=[0, 1, 2, 3, 4])), ('sgdclassifier', SGDClassifier(alpha=0.001, average=False, class_weight=None, epsilon=0.1,\n",
        "       eta0=0.0, fit_intercept=True, l1_ratio=0.98999999999999999,\n",
        "       learning_rate='optimal', loss='log', n_iter=5, n_jobs=1,\n",
        "       penalty='elasticnet', power_t=0.5, random_state=None, shuffle=True,\n",
        "       verbose=0, warm_start=False))])\n"
       ]
      }
     ],
     "prompt_number": 47
    },
    {
     "cell_type": "code",
     "collapsed": false,
     "input": [
      "# SGD with higher order terms and interactions\n",
      "# with normalization\n",
      "# with imputer\n",
      "%load_ext autoreload\n",
      "%autoreload 2\n",
      "from sklearn.preprocessing import PolynomialFeatures, OneHotEncoder, LabelEncoder, MinMaxScaler, StandardScaler, \\\n",
      "                                    Imputer\n",
      "from helpers import MultiLabelEncoder, OneHotEncoderMinusOne, GenericPolyFeatures\n",
      "\n",
      "from sklearn.linear_model import SGDClassifier\n",
      "from sklearn.pipeline import make_pipeline\n",
      "from sklearn.cross_validation import cross_val_score\n",
      "from sklearn.grid_search import GridSearchCV\n",
      "\n",
      "X_train = data_train[['Pclass', 'SibSp_bin', 'Parch_bin', 'Embarked', 'Sex', 'Fare']].values\n",
      "y_train = data_train['Survived'].values\n",
      "\n",
      "clf = make_pipeline(MultiLabelEncoder([0, 3, 4]), \n",
      "                    Imputer(\n",
      "                    OneHotEncoderMinusOne([0, 1, 2, 3, 4]),\n",
      "                    GenericPolyFeatures([-1], degree=2),\n",
      "                    StandardScaler()\n",
      "                    )\n",
      "\n",
      "X_train = clf.fit_transform(X_train)\n",
      "\n",
      "\n",
      "param_grid = [{\n",
      "               'alpha': [0.000001, 0.00001, 0.0001, 0.001, 0.01, 0.1],\n",
      "               'l1_ratio': np.linspace(0.01, 0.99, num=20)\n",
      "             }]\n",
      "clf = GridSearchCV(SGDClassifier(loss='log', penalty='elasticnet'), param_grid, scoring='accuracy', cv=10, n_jobs=1)\n",
      "clf.fit(X_train, y_train)\n",
      "print clf.best_score_\n",
      "print \n",
      "print clf.best_params_\n",
      "print \n",
      "print clf.best_estimator_"
     ],
     "language": "python",
     "metadata": {},
     "outputs": [
      {
       "output_type": "stream",
       "stream": "stdout",
       "text": [
        "0.804713804714\n",
        "\n",
        "{'alpha': 0.01, 'l1_ratio': 0.3194736842105263}\n",
        "\n",
        "SGDClassifier(alpha=0.01, average=False, class_weight=None, epsilon=0.1,\n",
        "       eta0=0.0, fit_intercept=True, l1_ratio=0.3194736842105263,\n",
        "       learning_rate='optimal', loss='log', n_iter=5, n_jobs=1,\n",
        "       penalty='elasticnet', power_t=0.5, random_state=None, shuffle=True,\n",
        "       verbose=0, warm_start=False)\n"
       ]
      }
     ],
     "prompt_number": 4
    },
    {
     "cell_type": "code",
     "collapsed": false,
     "input": [
      "clf = Imputer(strategy='most_frequent')\n",
      "a = np.array([1, 2, 3, 4, np.nan]).reshape(-1, 1)\n",
      "clf.fit_transform(a)"
     ],
     "language": "python",
     "metadata": {},
     "outputs": [
      {
       "metadata": {},
       "output_type": "pyout",
       "prompt_number": 21,
       "text": [
        "array([[ 1.],\n",
        "       [ 2.],\n",
        "       [ 3.],\n",
        "       [ 4.],\n",
        "       [ 1.]])"
       ]
      }
     ],
     "prompt_number": 21
    }
   ],
   "metadata": {}
  }
 ]
}