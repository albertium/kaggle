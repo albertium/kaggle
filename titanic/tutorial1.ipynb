{
 "metadata": {
  "name": ""
 },
 "nbformat": 3,
 "nbformat_minor": 0,
 "worksheets": [
  {
   "cells": [
    {
     "cell_type": "code",
     "collapsed": false,
     "input": [
      "import csv\n",
      "import numpy as np\n",
      "import pandas as pd\n",
      "%matplotlib"
     ],
     "language": "python",
     "metadata": {},
     "outputs": [
      {
       "output_type": "stream",
       "stream": "stdout",
       "text": [
        "Using matplotlib backend: TkAgg\n"
       ]
      }
     ],
     "prompt_number": 3
    },
    {
     "cell_type": "code",
     "collapsed": false,
     "input": [
      "# preprocessing\n",
      "train = pd.read_csv('train.csv')\n",
      "train.columns = map(str.lower, train.columns)\n",
      "\n",
      "test = pd.read_csv('test.csv')\n",
      "test.columns = map(str.lower, test.columns)\n",
      "test['fare'].fillna(11, inplace=True)\n",
      "result = pd.DataFrame(index = xrange(len(test)), columns = [\"PassengerId\", \"Survived\"])\n",
      "test.columns"
     ],
     "language": "python",
     "metadata": {},
     "outputs": [
      {
       "metadata": {},
       "output_type": "pyout",
       "prompt_number": 22,
       "text": [
        "Index([u'passengerid', u'pclass', u'name', u'sex', u'age', u'sibsp', u'parch', u'ticket', u'fare', u'cabin', u'embarked'], dtype='object')"
       ]
      }
     ],
     "prompt_number": 22
    },
    {
     "cell_type": "code",
     "collapsed": false,
     "input": [
      "# modeling\n",
      "train['fare_bin'] = pd.cut(train['fare'], [-np.inf, 10, 20, 30, np.inf], labels = range(4))\n",
      "prob_hat = train.groupby(['sex', 'pclass', 'fare_bin'])['survived'].agg({'prob_hat': np.mean})\n",
      "\n",
      "test['fare_bin'] = pd.cut(test['fare'], [-np.inf, 10, 20, 30, np.inf], labels = range(4))\n",
      "test_1 = pd.merge(test, prob_hat, left_on = ['sex', 'pclass', 'fare_bin'], right_index = True)\n",
      "\n",
      "result = pd.DataFrame({'Passengerid': test_1['passengerid']})\n",
      "result['Survived'] = (test_1['prob_hat'] > 0.5).astype(int)"
     ],
     "language": "python",
     "metadata": {},
     "outputs": [],
     "prompt_number": 23
    },
    {
     "cell_type": "code",
     "collapsed": false,
     "input": [
      "result.to_csv('result.csv', index = False)\n",
      "result.info()"
     ],
     "language": "python",
     "metadata": {},
     "outputs": [
      {
       "output_type": "stream",
       "stream": "stdout",
       "text": [
        "<class 'pandas.core.frame.DataFrame'>\n",
        "Int64Index: 418 entries, 0 to 372\n",
        "Data columns (total 2 columns):\n",
        "Passengerid    418 non-null int64\n",
        "Survived       418 non-null int64\n",
        "dtypes: int64(2)"
       ]
      }
     ],
     "prompt_number": 24
    },
    {
     "cell_type": "code",
     "collapsed": false,
     "input": [
      "test.info()"
     ],
     "language": "python",
     "metadata": {},
     "outputs": [
      {
       "output_type": "stream",
       "stream": "stdout",
       "text": [
        "<class 'pandas.core.frame.DataFrame'>\n",
        "Int64Index: 418 entries, 0 to 417\n",
        "Data columns (total 11 columns):\n",
        "passengerid    418 non-null int64\n",
        "pclass         418 non-null int64\n",
        "name           418 non-null object\n",
        "sex            418 non-null object\n",
        "age            332 non-null float64\n",
        "sibsp          418 non-null int64\n",
        "parch          418 non-null int64\n",
        "ticket         418 non-null object\n",
        "fare           417 non-null float64\n",
        "cabin          91 non-null object\n",
        "embarked       418 non-null object\n",
        "dtypes: float64(2), int64(4), object(5)"
       ]
      }
     ],
     "prompt_number": 20
    },
    {
     "cell_type": "code",
     "collapsed": false,
     "input": [],
     "language": "python",
     "metadata": {},
     "outputs": []
    }
   ],
   "metadata": {}
  }
 ]
}