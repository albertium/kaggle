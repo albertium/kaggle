{
 "metadata": {
  "name": ""
 },
 "nbformat": 3,
 "nbformat_minor": 0,
 "worksheets": [
  {
   "cells": [
    {
     "cell_type": "code",
     "collapsed": false,
     "input": [
      "import numpy as np\n",
      "import pandas as pd\n",
      "from matplotlib import pyplot as plt\n",
      "%matplotlib inline"
     ],
     "language": "python",
     "metadata": {},
     "outputs": [],
     "prompt_number": 1
    },
    {
     "cell_type": "code",
     "collapsed": false,
     "input": [
      "data_train = pd.read_csv('train.csv')\n",
      "data_train['SibSp_bin'] = pd.cut(data_train.SibSp, [-np.inf, 0, 1, np.inf], labels=False)\n",
      "data_train['Parch_bin'] = pd.cut(data_train.Parch, [-np.inf, 0, 1, np.inf], labels=False)\n",
      "data_train.groupby('Parch_bin').agg({'Survived': [np.mean, np.size]})\n",
      "data_train.info()\n",
      "\n",
      "data_test = pd.read_csv('test.csv')\n",
      "data_test['SibSp_bin'] = pd.cut(data_test.SibSp, [-np.inf, 0, 1, np.inf], labels=False)\n",
      "data_test['Parch_bin'] = pd.cut(data_test.Parch, [-np.inf, 0, 1, np.inf], labels=False)"
     ],
     "language": "python",
     "metadata": {},
     "outputs": [
      {
       "output_type": "stream",
       "stream": "stdout",
       "text": [
        "<class 'pandas.core.frame.DataFrame'>\n",
        "Int64Index: 891 entries, 0 to 890\n",
        "Data columns (total 14 columns):\n",
        "PassengerId    891 non-null int64\n",
        "Survived       891 non-null int64\n",
        "Pclass         891 non-null int64\n",
        "Name           891 non-null object\n",
        "Sex            891 non-null object\n",
        "Age            714 non-null float64\n",
        "SibSp          891 non-null int64\n",
        "Parch          891 non-null int64\n",
        "Ticket         891 non-null object\n",
        "Fare           891 non-null float64\n",
        "Cabin          204 non-null object\n",
        "Embarked       889 non-null object\n",
        "SibSp_bin      891 non-null int64\n",
        "Parch_bin      891 non-null int64\n",
        "dtypes: float64(2), int64(7), object(5)"
       ]
      }
     ],
     "prompt_number": 2
    },
    {
     "cell_type": "code",
     "collapsed": false,
     "input": [
      "# SGD with higher order terms and interactions\n",
      "# with normalization\n",
      "# with imputer\n",
      "%load_ext autoreload\n",
      "%autoreload 2\n",
      "from sklearn.preprocessing import PolynomialFeatures, OneHotEncoder, LabelEncoder, MinMaxScaler, StandardScaler\n",
      "from sklearn.preprocessing import Imputer\n",
      "from helpers import MultiLabelEncoder, OneHotEncoderMinusOne, GenericPolyFeatures, GenericImputer\n",
      "\n",
      "from sklearn.linear_model import SGDClassifier\n",
      "from sklearn.pipeline import make_pipeline, Pipeline\n",
      "from sklearn.cross_validation import cross_val_score\n",
      "from sklearn.grid_search import GridSearchCV\n",
      "\n",
      "X_train = data_train[['Pclass', 'SibSp_bin', 'Parch_bin', 'Embarked', 'Sex', 'Fare']].values\n",
      "y_train = data_train['Survived'].values\n",
      "\n",
      "pipeline = make_pipeline(MultiLabelEncoder([0, 3, 4]), \n",
      "                    GenericImputer([5], ['median']),\n",
      "                    OneHotEncoderMinusOne([0, 1, 2, 3, 4]),\n",
      "                    GenericPolyFeatures([-1], degree=2),\n",
      "                    StandardScaler()\n",
      "                    )\n",
      "\n",
      "X_train = pipeline.fit_transform(X_train)\n",
      "X_train = np.hstack([X_train, np.zeros(X_train.shape[0])])\n",
      "\n",
      "\n",
      "param_grid = [{\n",
      "               'alpha': [0.000001, 0.00001, 0.0001, 0.001, 0.01, 0.1],\n",
      "               'l1_ratio': np.linspace(0.01, 0.99, num=20)\n",
      "             }]\n",
      "clf = GridSearchCV(SGDClassifier(loss='log', penalty='elasticnet'), param_grid, scoring='accuracy', cv=10, n_jobs=1)\n",
      "clf.fit(X_train, y_train)\n",
      "print clf.best_score_\n",
      "print \n",
      "print clf.best_params_\n",
      "print \n",
      "print clf.best_estimator_\n",
      "\n",
      "clf = make_pipeline(pipeline, clf.best_estimator_)\n",
      "print clf"
     ],
     "language": "python",
     "metadata": {},
     "outputs": [
      {
       "ename": "ValueError",
       "evalue": "all the input arrays must have same number of dimensions",
       "output_type": "pyerr",
       "traceback": [
        "\u001b[0;31m---------------------------------------------------------------------------\u001b[0m\n\u001b[0;31mValueError\u001b[0m                                Traceback (most recent call last)",
        "\u001b[0;32m<ipython-input-55-681c12663f53>\u001b[0m in \u001b[0;36m<module>\u001b[0;34m()\u001b[0m\n\u001b[1;32m     24\u001b[0m \u001b[0;34m\u001b[0m\u001b[0m\n\u001b[1;32m     25\u001b[0m \u001b[0mX_train\u001b[0m \u001b[0;34m=\u001b[0m \u001b[0mpipeline\u001b[0m\u001b[0;34m.\u001b[0m\u001b[0mfit_transform\u001b[0m\u001b[0;34m(\u001b[0m\u001b[0mX_train\u001b[0m\u001b[0;34m)\u001b[0m\u001b[0;34m\u001b[0m\u001b[0m\n\u001b[0;32m---> 26\u001b[0;31m \u001b[0mX_train\u001b[0m \u001b[0;34m=\u001b[0m \u001b[0mnp\u001b[0m\u001b[0;34m.\u001b[0m\u001b[0mhstack\u001b[0m\u001b[0;34m(\u001b[0m\u001b[0;34m[\u001b[0m\u001b[0mX_train\u001b[0m\u001b[0;34m,\u001b[0m \u001b[0mnp\u001b[0m\u001b[0;34m.\u001b[0m\u001b[0mzeros\u001b[0m\u001b[0;34m(\u001b[0m\u001b[0mX_train\u001b[0m\u001b[0;34m.\u001b[0m\u001b[0mshape\u001b[0m\u001b[0;34m[\u001b[0m\u001b[0;36m0\u001b[0m\u001b[0;34m]\u001b[0m\u001b[0;34m)\u001b[0m\u001b[0;34m]\u001b[0m\u001b[0;34m)\u001b[0m\u001b[0;34m\u001b[0m\u001b[0m\n\u001b[0m\u001b[1;32m     27\u001b[0m \u001b[0;34m\u001b[0m\u001b[0m\n\u001b[1;32m     28\u001b[0m \u001b[0;34m\u001b[0m\u001b[0m\n",
        "\u001b[0;32m/usr/lib/python2.7/dist-packages/numpy/core/shape_base.pyc\u001b[0m in \u001b[0;36mhstack\u001b[0;34m(tup)\u001b[0m\n\u001b[1;32m    275\u001b[0m         \u001b[0;32mreturn\u001b[0m \u001b[0m_nx\u001b[0m\u001b[0;34m.\u001b[0m\u001b[0mconcatenate\u001b[0m\u001b[0;34m(\u001b[0m\u001b[0marrs\u001b[0m\u001b[0;34m,\u001b[0m \u001b[0;36m0\u001b[0m\u001b[0;34m)\u001b[0m\u001b[0;34m\u001b[0m\u001b[0m\n\u001b[1;32m    276\u001b[0m     \u001b[0;32melse\u001b[0m\u001b[0;34m:\u001b[0m\u001b[0;34m\u001b[0m\u001b[0m\n\u001b[0;32m--> 277\u001b[0;31m         \u001b[0;32mreturn\u001b[0m \u001b[0m_nx\u001b[0m\u001b[0;34m.\u001b[0m\u001b[0mconcatenate\u001b[0m\u001b[0;34m(\u001b[0m\u001b[0marrs\u001b[0m\u001b[0;34m,\u001b[0m \u001b[0;36m1\u001b[0m\u001b[0;34m)\u001b[0m\u001b[0;34m\u001b[0m\u001b[0m\n\u001b[0m",
        "\u001b[0;31mValueError\u001b[0m: all the input arrays must have same number of dimensions"
       ]
      },
      {
       "output_type": "stream",
       "stream": "stdout",
       "text": [
        "The autoreload extension is already loaded. To reload it, use:\n",
        "  %reload_ext autoreload\n"
       ]
      }
     ],
     "prompt_number": 55
    },
    {
     "cell_type": "code",
     "collapsed": false,
     "input": [
      "X_test = data_train[['Pclass', 'SibSp_bin', 'Parch_bin', 'Embarked', 'Sex', 'Fare']].values\n",
      "test1 = pipeline.steps[0][1].fit_transform(X_test)\n",
      "test2 = pipeline.steps[1][1].fit_transform(test1)\n",
      "test3 = pipeline.steps[2][1].fit_transform(test2)\n",
      "test4 = pipeline.steps[3][1].fit_transform(test3)\n",
      "print test3.shape"
     ],
     "language": "python",
     "metadata": {},
     "outputs": [
      {
       "output_type": "stream",
       "stream": "stdout",
       "text": [
        "(891, 11)\n"
       ]
      }
     ],
     "prompt_number": 43
    },
    {
     "cell_type": "code",
     "collapsed": false,
     "input": [
      "train1 = data_train[['Pclass', 'SibSp_bin', 'Parch_bin', 'Embarked', 'Sex', 'Fare']].values\n",
      "X_test = data_test[['Pclass', 'SibSp_bin', 'Parch_bin', 'Embarked', 'Sex', 'Fare']].values\n",
      "tmp = pipeline.fit_transform(train1)\n",
      "\n",
      "test1 = pipeline.steps[0][1].transform(X_test)\n",
      "test2 = pipeline.steps[1][1].transform(test1)\n",
      "test3 = pipeline.steps[2][1].transform(test2)\n",
      "test4 = pipeline.steps[3][1].transform(test3)\n",
      "print test3.shape\n",
      "np.all(test3 == 0., axis=0)"
     ],
     "language": "python",
     "metadata": {},
     "outputs": [
      {
       "output_type": "stream",
       "stream": "stdout",
       "text": [
        "(418, 11)\n"
       ]
      },
      {
       "metadata": {},
       "output_type": "pyout",
       "prompt_number": 57,
       "text": [
        "array([False, False, False, False, False, False, False, False, False,\n",
        "       False, False], dtype=bool)"
       ]
      }
     ],
     "prompt_number": 57
    },
    {
     "cell_type": "code",
     "collapsed": false,
     "input": [
      "np.zeros(X_train.shape[0])[..., None].shape"
     ],
     "language": "python",
     "metadata": {},
     "outputs": [
      {
       "metadata": {},
       "output_type": "pyout",
       "prompt_number": 58,
       "text": [
        "(891, 1)"
       ]
      }
     ],
     "prompt_number": 58
    }
   ],
   "metadata": {}
  }
 ]
}