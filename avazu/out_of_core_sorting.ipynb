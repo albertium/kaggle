{
 "cells": [
  {
   "cell_type": "code",
   "execution_count": 44,
   "metadata": {
    "collapsed": false
   },
   "outputs": [],
   "source": [
    "import numpy as np\n",
    "import pandas as pd"
   ]
  },
  {
   "cell_type": "code",
   "execution_count": 42,
   "metadata": {
    "collapsed": false
   },
   "outputs": [
    {
     "name": "stdout",
     "output_type": "stream",
     "text": [
      "Wall time: 7.39 s\n"
     ]
    }
   ],
   "source": [
    "%%time\n",
    "import subprocess\n",
    "import re\n",
    "import random\n",
    "\n",
    "nrows = subprocess.check_output(['wc', '-l', 'data/train'])\n",
    "nrows = int(re.sub(\"[^0-9]\", \"\", nrows.decode(encoding='UTF-8')))\n",
    "\n",
    "to_skip = set(range(1, nrows)) - set(random.sample(range(1, nrows), 10000))"
   ]
  },
  {
   "cell_type": "code",
   "execution_count": 45,
   "metadata": {
    "collapsed": false
   },
   "outputs": [],
   "source": [
    "data_sample = pd.read_csv('data/train', skiprows=list(to_skip))"
   ]
  },
  {
   "cell_type": "code",
   "execution_count": 46,
   "metadata": {
    "collapsed": false
   },
   "outputs": [
    {
     "name": "stdout",
     "output_type": "stream",
     "text": [
      "<class 'pandas.core.frame.DataFrame'>\n",
      "Int64Index: 10000 entries, 0 to 9999\n",
      "Data columns (total 24 columns):\n",
      "id                  10000 non-null object\n",
      "click               10000 non-null int64\n",
      "hour                10000 non-null int64\n",
      "C1                  10000 non-null int64\n",
      "banner_pos          10000 non-null int64\n",
      "site_id             10000 non-null object\n",
      "site_domain         10000 non-null object\n",
      "site_category       10000 non-null object\n",
      "app_id              10000 non-null object\n",
      "app_domain          10000 non-null object\n",
      "app_category        10000 non-null object\n",
      "device_id           10000 non-null object\n",
      "device_ip           10000 non-null object\n",
      "device_model        10000 non-null object\n",
      "device_type         10000 non-null int64\n",
      "device_conn_type    10000 non-null int64\n",
      "C14                 10000 non-null int64\n",
      "C15                 10000 non-null int64\n",
      "C16                 10000 non-null int64\n",
      "C17                 10000 non-null int64\n",
      "C18                 10000 non-null int64\n",
      "C19                 10000 non-null int64\n",
      "C20                 10000 non-null int64\n",
      "C21                 10000 non-null int64\n",
      "dtypes: int64(14), object(10)\n",
      "memory usage: 1.9+ MB\n"
     ]
    }
   ],
   "source": [
    "data_sample.info()"
   ]
  }
 ],
 "metadata": {
  "kernelspec": {
   "display_name": "Python 3",
   "language": "python",
   "name": "python3"
  },
  "language_info": {
   "codemirror_mode": {
    "name": "ipython",
    "version": 3
   },
   "file_extension": ".py",
   "mimetype": "text/x-python",
   "name": "python",
   "nbconvert_exporter": "python",
   "pygments_lexer": "ipython3",
   "version": "3.4.3"
  }
 },
 "nbformat": 4,
 "nbformat_minor": 0
}
