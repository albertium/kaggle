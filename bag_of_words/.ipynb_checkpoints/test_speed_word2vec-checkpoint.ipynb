{
 "cells": [
  {
   "cell_type": "code",
   "execution_count": 56,
   "metadata": {
    "collapsed": false
   },
   "outputs": [
    {
     "data": {
      "text/plain": [
       "1.0"
      ]
     },
     "execution_count": 56,
     "metadata": {},
     "output_type": "execute_result"
    }
   ],
   "source": [
    "import gensim, logging\n",
    "import numpy as np\n",
    "\n",
    "logging.basicConfig(format='%(asctime)s : %(levelname)s : %(message)s', level=logging.INFO)\n",
    "sentences = [['first', 'sentence'], ['second', 'sentence']]\n",
    "model = gensim.models.Word2Vec(sentences, min_count=1, size=12, workers=20)\n",
    "model.similarity('sentence', 'sentence')"
   ]
  },
  {
   "cell_type": "code",
   "execution_count": 90,
   "metadata": {
    "collapsed": false
   },
   "outputs": [],
   "source": [
    "from nltk.corpus import brown, movie_reviews\n",
    "import gensim\n",
    "import logging\n",
    "num_doc = 100000000\n",
    "class sent_reader:\n",
    "    def __init__(self, corpus):\n",
    "        self.corpus = corpus\n",
    "        \n",
    "    def __iter__(self):\n",
    "        for doc in self.corpus.fileids():\n",
    "            for line in self.corpus.sents(doc):\n",
    "                yield line\n",
    "            \n",
    "logging.basicConfig(format='%(asctime)s : %(levelname)s : %(message)s', level=logging.INFO)\n",
    "model = gensim.models.Word2Vec(sent_reader(movie_reviews), size=300, min_count=30, workers=8)\n",
    "\n",
    "# model.build_vocab(brown_reader(num_doc))\n",
    "# model.train(brown_reader(num_doc))"
   ]
  },
  {
   "cell_type": "code",
   "execution_count": 92,
   "metadata": {
    "collapsed": false
   },
   "outputs": [
    {
     "data": {
      "text/plain": [
       "[(u'girl', 0.69195955991745),\n",
       " (u'guy', 0.6340065002441406),\n",
       " (u'kid', 0.59778892993927),\n",
       " (u'lady', 0.5916077494621277),\n",
       " (u'macho', 0.5772420763969421),\n",
       " (u'astronaut', 0.5496938824653625),\n",
       " (u'artist', 0.5436083674430847),\n",
       " (u'player', 0.5417657494544983),\n",
       " (u'blond', 0.5385181307792664),\n",
       " (u'anakin', 0.525457501411438)]"
      ]
     },
     "execution_count": 92,
     "metadata": {},
     "output_type": "execute_result"
    }
   ],
   "source": [
    "model.most_similar(positive=['man', 'boy'], negative=['woman'])"
   ]
  },
  {
   "cell_type": "code",
   "execution_count": 91,
   "metadata": {
    "collapsed": false
   },
   "outputs": [
    {
     "data": {
      "text/plain": [
       "15"
      ]
     },
     "execution_count": 91,
     "metadata": {},
     "output_type": "execute_result"
    }
   ],
   "source": [
    "from nltk.corpus import wordnet\n",
    "len(wordnet.fileids())"
   ]
  }
 ],
 "metadata": {
  "kernelspec": {
   "display_name": "Python 2",
   "language": "python",
   "name": "python2"
  },
  "language_info": {
   "codemirror_mode": {
    "name": "ipython",
    "version": 2
   },
   "file_extension": ".py",
   "mimetype": "text/x-python",
   "name": "python",
   "nbconvert_exporter": "python",
   "pygments_lexer": "ipython2",
   "version": "2.7.6"
  }
 },
 "nbformat": 4,
 "nbformat_minor": 0
}
